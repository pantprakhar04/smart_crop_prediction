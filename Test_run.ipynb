{
  "nbformat": 4,
  "nbformat_minor": 0,
  "metadata": {
    "colab": {
      "name": "Test_run.ipynb",
      "version": "0.3.2",
      "provenance": [],
      "collapsed_sections": [],
      "include_colab_link": true
    },
    "kernelspec": {
      "name": "python3",
      "display_name": "Python 3"
    }
  },
  "cells": [
    {
      "cell_type": "markdown",
      "metadata": {
        "id": "view-in-github",
        "colab_type": "text"
      },
      "source": [
        "<a href=\"https://colab.research.google.com/github/pantprakhar04/smart_crop_prediction/blob/master/Test_run.ipynb\" target=\"_parent\"><img src=\"https://colab.research.google.com/assets/colab-badge.svg\" alt=\"Open In Colab\"/></a>"
      ]
    },
    {
      "cell_type": "code",
      "metadata": {
        "id": "T372jLpSpM33",
        "colab_type": "code",
        "colab": {}
      },
      "source": [
        "import warnings\n",
        "warnings.filterwarnings(\"ignore\")"
      ],
      "execution_count": 0,
      "outputs": []
    },
    {
      "cell_type": "markdown",
      "metadata": {
        "id": "Kuhe-j2WqZ3x",
        "colab_type": "text"
      },
      "source": [
        "# **DATASET DESCRIPTION**\n",
        "\n",
        "This data set provides an integrated collection of \n",
        "\n",
        "1.   ground-based meteorological, radiometric, and vegetation measurements,\n",
        "2.   flux-based estimates of gross primary production (GPP), and\n",
        "3.   numerous vegetation indices derived from satellite imagery\n",
        "\n",
        "for three eddy covariance flux tower locations near Lincoln, Nebraska, USA. \n",
        "\n",
        "[LINK](https://daac.ornl.gov/cgi-bin/dsviewer.pl?ds_id=1217)"
      ]
    },
    {
      "cell_type": "code",
      "metadata": {
        "id": "3C1etq_lp559",
        "colab_type": "code",
        "outputId": "86de1ffe-2cc7-45e5-fe47-8d2f0f77b884",
        "colab": {
          "resources": {
            "http://localhost:8080/nbextensions/google.colab/files.js": {
              "data": "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",
              "ok": true,
              "headers": [
                [
                  "content-type",
                  "application/javascript"
                ]
              ],
              "status": 200,
              "status_text": ""
            }
          },
          "base_uri": "https://localhost:8080/",
          "height": 74
        }
      },
      "source": [
        "#importing dataset from local drive\n",
        "\n",
        "from google.colab import files\n",
        "uploaded = files.upload()"
      ],
      "execution_count": 0,
      "outputs": [
        {
          "output_type": "display_data",
          "data": {
            "text/html": [
              "\n",
              "     <input type=\"file\" id=\"files-ac2256dc-48f6-44d5-8e68-20744ee54681\" name=\"files[]\" multiple disabled />\n",
              "     <output id=\"result-ac2256dc-48f6-44d5-8e68-20744ee54681\">\n",
              "      Upload widget is only available when the cell has been executed in the\n",
              "      current browser session. Please rerun this cell to enable.\n",
              "      </output>\n",
              "      <script src=\"/nbextensions/google.colab/files.js\"></script> "
            ],
            "text/plain": [
              "<IPython.core.display.HTML object>"
            ]
          },
          "metadata": {
            "tags": []
          }
        },
        {
          "output_type": "stream",
          "text": [
            "Saving train.csv to train.csv\n"
          ],
          "name": "stdout"
        }
      ]
    },
    {
      "cell_type": "code",
      "metadata": {
        "id": "QfczDTxkRcNT",
        "colab_type": "code",
        "colab": {}
      },
      "source": [
        "#importing libraries\n",
        "\n",
        "import pickle\n",
        "import pandas as pd\n",
        "import xgboost as xgb\n",
        "from sklearn.linear_model import LogisticRegression\n",
        "from sklearn.ensemble import RandomForestClassifier\n",
        "from sklearn.svm import SVC\n",
        "from IPython.display import display"
      ],
      "execution_count": 0,
      "outputs": []
    },
    {
      "cell_type": "code",
      "metadata": {
        "id": "gAky0us8SVZS",
        "colab_type": "code",
        "colab": {}
      },
      "source": [
        "#storing dataset in the form of a Pandas dataframe\n",
        "\n",
        "data = pd.read_csv('train.csv')"
      ],
      "execution_count": 0,
      "outputs": []
    },
    {
      "cell_type": "code",
      "metadata": {
        "id": "OIA6nkRnSpht",
        "colab_type": "code",
        "colab": {}
      },
      "source": [
        "#separate data into target variable and feature set\n",
        "\n",
        "y_all = data['Crop']\n",
        "X_all = data.drop(['Crop'], 1)"
      ],
      "execution_count": 0,
      "outputs": []
    },
    {
      "cell_type": "code",
      "metadata": {
        "id": "rpwg-GhVUzhZ",
        "colab_type": "code",
        "colab": {}
      },
      "source": [
        "#data standardization\n",
        "\n",
        "from sklearn.preprocessing import scale\n",
        "\n",
        "cols = data.columns.drop(['Crop'], 1)\n",
        "for col in cols:\n",
        "  X_all[col] = scale(X_all[col])"
      ],
      "execution_count": 0,
      "outputs": []
    },
    {
      "cell_type": "code",
      "metadata": {
        "id": "U2wxj3KjVfdx",
        "colab_type": "code",
        "colab": {}
      },
      "source": [
        "#shuffle and split dataset into training and testing set\n",
        "\n",
        "from sklearn.model_selection import train_test_split\n",
        "\n",
        "X_train, X_test, y_train, y_test = train_test_split(X_all, y_all, test_size=0.2, train_size=0.8, random_state=2, stratify=y_all)"
      ],
      "execution_count": 0,
      "outputs": []
    },
    {
      "cell_type": "code",
      "metadata": {
        "id": "xbwfhe0Faj0k",
        "colab_type": "code",
        "colab": {}
      },
      "source": [
        "from sklearn.metrics import f1_score\n",
        "\n",
        "def train_classifier(clf, X_train, y_train):\n",
        "    ''' Fits a classifier to the training data. '''\n",
        "    \n",
        "    # Start the clock, train the classifier, then stop the clock\n",
        "    start = time()\n",
        "    clf.fit(X_train, y_train)\n",
        "    end = time()\n",
        "    \n",
        "    # Print the results\n",
        "    print (\"Trained model in {:.4f} seconds\".format(end - start))\n",
        "\n",
        "    \n",
        "def predict_labels(clf, features, target):\n",
        "    ''' Makes predictions using a fit classifier based on F1 score. '''\n",
        "    \n",
        "    # Start the clock, make predictions, then stop the clock\n",
        "    start = time()\n",
        "    y_pred = clf.predict(features)\n",
        "    \n",
        "    end = time()\n",
        "    # Print and return results\n",
        "    print (\"Made predictions in {:.4f} seconds.\".format(end - start))\n",
        "    \n",
        "    return f1_score(target, y_pred, pos_label='H', average=None), sum(target == y_pred) / float(len(y_pred))\n",
        "  \n",
        "def train_predict(clf, X_train, y_train, X_test, y_test):\n",
        "    ''' Train and predict using a classifer based on F1 score. '''\n",
        "    \n",
        "    # Indicate the classifier and the training set size\n",
        "    print (\"Training a {} using a training set size of {}. . .\".format(clf.__class__.__name__, len(X_train)))\n",
        "    \n",
        "    # Train the classifier\n",
        "    train_classifier(clf, X_train, y_train)\n",
        "    \n",
        "    # Print the results of prediction for both training and testing\n",
        "    f1, acc = predict_labels(clf, X_train, y_train)\n",
        "    print (f1, acc)\n",
        "    print (\"F1 score and accuracy score for training set: {:.4f} , {:.4f}.\".format(f1.mean() , acc))\n",
        "    \n",
        "    f1, acc = predict_labels(clf, X_test, y_test)\n",
        "    print (\"F1 score and accuracy score for test set: {:.4f} , {:.4f}.\".format(f1.mean(), acc))"
      ],
      "execution_count": 0,
      "outputs": []
    },
    {
      "cell_type": "code",
      "metadata": {
        "id": "J3BNR7hMY4KP",
        "colab_type": "code",
        "outputId": "4e10cce2-a51f-4180-ce4e-b569a4efbacc",
        "colab": {
          "base_uri": "https://localhost:8080/",
          "height": 425
        }
      },
      "source": [
        "#to measure training time\n",
        "from time import time\n",
        "\n",
        "#build some models\n",
        "clf_A = LogisticRegression(random_state=42)\n",
        "clf_B = SVC(random_state=912, kernel='rbf')\n",
        "clf_C = xgb.XGBClassifier(seed=82)\n",
        "\n",
        "train_predict(clf_A, X_train, y_train, X_test, y_test)\n",
        "print ('')\n",
        "train_predict(clf_B, X_train, y_train, X_test, y_test)\n",
        "print ('')\n",
        "train_predict(clf_C, X_train, y_train, X_test, y_test)\n",
        "print ('')"
      ],
      "execution_count": 0,
      "outputs": [
        {
          "output_type": "stream",
          "text": [
            "Training a LogisticRegression using a training set size of 398. . .\n",
            "Trained model in 0.0466 seconds\n",
            "Made predictions in 0.0057 seconds.\n",
            "[0.91060291 0.5        0.92015209] 0.8869346733668342\n",
            "F1 score and accuracy score for training set: 0.7769 , 0.8869.\n",
            "Made predictions in 0.0011 seconds.\n",
            "F1 score and accuracy score for test set: 0.8344 , 0.9100.\n",
            "\n",
            "Training a SVC using a training set size of 398. . .\n",
            "Trained model in 0.0205 seconds\n",
            "Made predictions in 0.0146 seconds.\n",
            "[0.87346939 0.         0.87732342] 0.8341708542713567\n",
            "F1 score and accuracy score for training set: 0.5836 , 0.8342.\n",
            "Made predictions in 0.0045 seconds.\n",
            "F1 score and accuracy score for test set: 0.6066 , 0.8600.\n",
            "\n",
            "Training a XGBClassifier using a training set size of 398. . .\n",
            "Trained model in 0.8391 seconds\n",
            "Made predictions in 0.0080 seconds.\n",
            "[1. 1. 1.] 1.0\n",
            "F1 score and accuracy score for training set: 1.0000 , 1.0000.\n",
            "Made predictions in 0.0033 seconds.\n",
            "F1 score and accuracy score for test set: 0.8113 , 0.9100.\n",
            "\n"
          ],
          "name": "stdout"
        }
      ]
    },
    {
      "cell_type": "code",
      "metadata": {
        "id": "f7e0TZC_bthp",
        "colab_type": "code",
        "colab": {}
      },
      "source": [
        "from sklearn.model_selection import GridSearchCV\n",
        "from sklearn.metrics import make_scorer"
      ],
      "execution_count": 0,
      "outputs": []
    },
    {
      "cell_type": "code",
      "metadata": {
        "id": "udl4NGK_oJK5",
        "colab_type": "code",
        "colab": {}
      },
      "source": [
        "#tuning some parameters\n",
        "\n",
        "parameters = { 'learning_rate' : [0.1],\n",
        "               'n_estimators' : [40],\n",
        "               'max_depth': [3],\n",
        "               'min_child_weight': [3],\n",
        "               'gamma':[0.4],\n",
        "               'subsample' : [0.8],\n",
        "               'colsample_bytree' : [0.8],\n",
        "               'scale_pos_weight' : [1],\n",
        "               'reg_alpha':[1e-5]\n",
        "             }"
      ],
      "execution_count": 0,
      "outputs": []
    },
    {
      "cell_type": "code",
      "metadata": {
        "id": "HuKchSiuqL5t",
        "colab_type": "code",
        "colab": {}
      },
      "source": [
        "#Initialize the classifier\n",
        "clf = xgb.XGBClassifier(seed=2)\n",
        "\n",
        "#Make an f1 scoring function using 'make_scorer' \n",
        "f1_scorer = make_scorer(f1_score, average='micro')\n",
        "\n",
        "#Perform grid search on the classifier using the f1_scorer as the scoring method\n",
        "grid_obj = GridSearchCV(clf,\n",
        "                        scoring=f1_scorer,\n",
        "                        param_grid=parameters,\n",
        "                        cv=5)"
      ],
      "execution_count": 0,
      "outputs": []
    },
    {
      "cell_type": "code",
      "metadata": {
        "id": "iVJcIluisEvG",
        "colab_type": "code",
        "colab": {}
      },
      "source": [
        "#Fit the grid search object to the training data and find the optimal parameters\n",
        "grid_obj = grid_obj.fit(X_train,y_train)"
      ],
      "execution_count": 0,
      "outputs": []
    },
    {
      "cell_type": "code",
      "metadata": {
        "id": "vyznIhpxqdbA",
        "colab_type": "code",
        "outputId": "2343af90-e394-4a9b-daef-308a855072b4",
        "colab": {
          "base_uri": "https://localhost:8080/",
          "height": 204
        }
      },
      "source": [
        "# Get the estimator\n",
        "clf = grid_obj.best_estimator_\n",
        "print (clf)\n",
        "\n",
        "# Report the final F1 score for training and testing after parameter tuning\n",
        "f1, acc = predict_labels(clf, X_train, y_train)\n",
        "print (\"F1 score and accuracy score for training set: {:.4f} , {:.4f}.\".format(f1.max() , acc))\n",
        "    \n",
        "f1, acc = predict_labels(clf, X_test, y_test)\n",
        "print (\"F1 score and accuracy score for test set: {:.4f} , {:.4f}.\".format(f1.max() , acc))"
      ],
      "execution_count": 0,
      "outputs": [
        {
          "output_type": "stream",
          "text": [
            "XGBClassifier(base_score=0.5, booster='gbtree', colsample_bylevel=1,\n",
            "              colsample_bytree=0.8, gamma=0.4, learning_rate=0.1,\n",
            "              max_delta_step=0, max_depth=3, min_child_weight=3, missing=None,\n",
            "              n_estimators=40, n_jobs=1, nthread=None,\n",
            "              objective='multi:softprob', random_state=0, reg_alpha=1e-05,\n",
            "              reg_lambda=1, scale_pos_weight=1, seed=2, silent=True,\n",
            "              subsample=0.8)\n",
            "Made predictions in 0.0085 seconds.\n",
            "F1 score and accuracy score for training set: 0.9631 , 0.9497.\n",
            "Made predictions in 0.0029 seconds.\n",
            "F1 score and accuracy score for test set: 0.9231 , 0.8800.\n"
          ],
          "name": "stdout"
        }
      ]
    },
    {
      "cell_type": "code",
      "metadata": {
        "id": "QLAPEXzbhSEC",
        "colab_type": "code",
        "colab": {}
      },
      "source": [
        "# Serialize clf object into a file called mlp_nn.pkg on disk using pickle\n",
        "pickle.dump(clf, open(\"model.pkl\", \"wb\"))"
      ],
      "execution_count": 0,
      "outputs": []
    },
    {
      "cell_type": "code",
      "metadata": {
        "id": "xPh1sZHWJ72n",
        "colab_type": "code",
        "colab": {}
      },
      "source": [
        "model = pickle.load(open(\"model.pkl\", \"rb\"))"
      ],
      "execution_count": 0,
      "outputs": []
    },
    {
      "cell_type": "code",
      "metadata": {
        "id": "octfYz1kJ_QK",
        "colab_type": "code",
        "outputId": "1b404aa3-6689-4f67-fa94-692ab455a0bb",
        "colab": {
          "base_uri": "https://localhost:8080/",
          "height": 394
        }
      },
      "source": [
        "import numpy as np\n",
        "data = np.array([[1.1, 892.673, 0.818, -207.328, 1.727, 1495.392, 0.94, -372.157, -9999, -9999, -9999, 93.08, 0.899, 0.48, -0.031, 0.306, 0.844, 0.228, 10.829, 8.688, 5.165, 1.251, 2.222, 1.397, 26.285, 2.713, 4.264, 1.029,1.101, 1.082, 1.188, 1.123, 1.132, 1.153, 1.181, 1.132, 1.139, 1.192, 1.334, 1.748, 2.35, 2.665, 2.798, 2.677, 2.29, 1.95, 1.788, 1.733, 1.615, 1.49, 1.471, 1.432, 1.356, 1.293, 1.25, 1.336, 1.641, 2.885, 5.643, 9.934, 16.423, 23.074, 27.343, 24.737, 29.029, 28.751, 28.511, 28.608, 28.393, 27.553, 26.843, 27.155, 26.637, 26.236, 25.215, 24.049, 23.122, 19.35]])\n",
        "\n",
        "print(model.predict(data))"
      ],
      "execution_count": 0,
      "outputs": [
        {
          "output_type": "error",
          "ename": "ValueError",
          "evalue": "ignored",
          "traceback": [
            "\u001b[0;31m---------------------------------------------------------------------------\u001b[0m",
            "\u001b[0;31mValueError\u001b[0m                                Traceback (most recent call last)",
            "\u001b[0;32m<ipython-input-49-bbfd60503def>\u001b[0m in \u001b[0;36m<module>\u001b[0;34m()\u001b[0m\n\u001b[1;32m      2\u001b[0m \u001b[0mdata\u001b[0m \u001b[0;34m=\u001b[0m \u001b[0mnp\u001b[0m\u001b[0;34m.\u001b[0m\u001b[0marray\u001b[0m\u001b[0;34m(\u001b[0m\u001b[0;34m[\u001b[0m\u001b[0;34m[\u001b[0m\u001b[0;36m1.1\u001b[0m\u001b[0;34m,\u001b[0m \u001b[0;36m892.673\u001b[0m\u001b[0;34m,\u001b[0m \u001b[0;36m0.818\u001b[0m\u001b[0;34m,\u001b[0m \u001b[0;34m-\u001b[0m\u001b[0;36m207.328\u001b[0m\u001b[0;34m,\u001b[0m \u001b[0;36m1.727\u001b[0m\u001b[0;34m,\u001b[0m \u001b[0;36m1495.392\u001b[0m\u001b[0;34m,\u001b[0m \u001b[0;36m0.94\u001b[0m\u001b[0;34m,\u001b[0m \u001b[0;34m-\u001b[0m\u001b[0;36m372.157\u001b[0m\u001b[0;34m,\u001b[0m \u001b[0;34m-\u001b[0m\u001b[0;36m9999\u001b[0m\u001b[0;34m,\u001b[0m \u001b[0;34m-\u001b[0m\u001b[0;36m9999\u001b[0m\u001b[0;34m,\u001b[0m \u001b[0;34m-\u001b[0m\u001b[0;36m9999\u001b[0m\u001b[0;34m,\u001b[0m \u001b[0;36m93.08\u001b[0m\u001b[0;34m,\u001b[0m \u001b[0;36m0.899\u001b[0m\u001b[0;34m,\u001b[0m \u001b[0;36m0.48\u001b[0m\u001b[0;34m,\u001b[0m \u001b[0;34m-\u001b[0m\u001b[0;36m0.031\u001b[0m\u001b[0;34m,\u001b[0m \u001b[0;36m0.306\u001b[0m\u001b[0;34m,\u001b[0m \u001b[0;36m0.844\u001b[0m\u001b[0;34m,\u001b[0m \u001b[0;36m0.228\u001b[0m\u001b[0;34m,\u001b[0m \u001b[0;36m10.829\u001b[0m\u001b[0;34m,\u001b[0m \u001b[0;36m8.688\u001b[0m\u001b[0;34m,\u001b[0m \u001b[0;36m5.165\u001b[0m\u001b[0;34m,\u001b[0m \u001b[0;36m1.251\u001b[0m\u001b[0;34m,\u001b[0m \u001b[0;36m2.222\u001b[0m\u001b[0;34m,\u001b[0m \u001b[0;36m1.397\u001b[0m\u001b[0;34m,\u001b[0m \u001b[0;36m26.285\u001b[0m\u001b[0;34m,\u001b[0m \u001b[0;36m2.713\u001b[0m\u001b[0;34m,\u001b[0m \u001b[0;36m4.264\u001b[0m\u001b[0;34m,\u001b[0m \u001b[0;36m1.029\u001b[0m\u001b[0;34m,\u001b[0m\u001b[0;36m1.101\u001b[0m\u001b[0;34m,\u001b[0m \u001b[0;36m1.082\u001b[0m\u001b[0;34m,\u001b[0m \u001b[0;36m1.188\u001b[0m\u001b[0;34m,\u001b[0m \u001b[0;36m1.123\u001b[0m\u001b[0;34m,\u001b[0m \u001b[0;36m1.132\u001b[0m\u001b[0;34m,\u001b[0m \u001b[0;36m1.153\u001b[0m\u001b[0;34m,\u001b[0m \u001b[0;36m1.181\u001b[0m\u001b[0;34m,\u001b[0m \u001b[0;36m1.132\u001b[0m\u001b[0;34m,\u001b[0m \u001b[0;36m1.139\u001b[0m\u001b[0;34m,\u001b[0m \u001b[0;36m1.192\u001b[0m\u001b[0;34m,\u001b[0m \u001b[0;36m1.334\u001b[0m\u001b[0;34m,\u001b[0m \u001b[0;36m1.748\u001b[0m\u001b[0;34m,\u001b[0m \u001b[0;36m2.35\u001b[0m\u001b[0;34m,\u001b[0m \u001b[0;36m2.665\u001b[0m\u001b[0;34m,\u001b[0m \u001b[0;36m2.798\u001b[0m\u001b[0;34m,\u001b[0m \u001b[0;36m2.677\u001b[0m\u001b[0;34m,\u001b[0m \u001b[0;36m2.29\u001b[0m\u001b[0;34m,\u001b[0m \u001b[0...\n\u001b[1;32m      3\u001b[0m \u001b[0;34m\u001b[0m\u001b[0m\n\u001b[0;32m----> 4\u001b[0;31m \u001b[0mprint\u001b[0m\u001b[0;34m(\u001b[0m\u001b[0mmodel\u001b[0m\u001b[0;34m.\u001b[0m\u001b[0mpredict\u001b[0m\u001b[0;34m(\u001b[0m\u001b[0mdata\u001b[0m\u001b[0;34m)\u001b[0m\u001b[0;34m)\u001b[0m\u001b[0;34m\u001b[0m\u001b[0;34m\u001b[0m\u001b[0m\n\u001b[0m",
            "\u001b[0;32m/usr/local/lib/python3.6/dist-packages/xgboost/sklearn.py\u001b[0m in \u001b[0;36mpredict\u001b[0;34m(self, data, output_margin, ntree_limit, validate_features)\u001b[0m\n\u001b[1;32m    770\u001b[0m                                                  \u001b[0moutput_margin\u001b[0m\u001b[0;34m=\u001b[0m\u001b[0moutput_margin\u001b[0m\u001b[0;34m,\u001b[0m\u001b[0;34m\u001b[0m\u001b[0;34m\u001b[0m\u001b[0m\n\u001b[1;32m    771\u001b[0m                                                  \u001b[0mntree_limit\u001b[0m\u001b[0;34m=\u001b[0m\u001b[0mntree_limit\u001b[0m\u001b[0;34m,\u001b[0m\u001b[0;34m\u001b[0m\u001b[0;34m\u001b[0m\u001b[0m\n\u001b[0;32m--> 772\u001b[0;31m                                                  validate_features=validate_features)\n\u001b[0m\u001b[1;32m    773\u001b[0m         \u001b[0;32mif\u001b[0m \u001b[0moutput_margin\u001b[0m\u001b[0;34m:\u001b[0m\u001b[0;34m\u001b[0m\u001b[0;34m\u001b[0m\u001b[0m\n\u001b[1;32m    774\u001b[0m             \u001b[0;31m# If output_margin is active, simply return the scores\u001b[0m\u001b[0;34m\u001b[0m\u001b[0;34m\u001b[0m\u001b[0;34m\u001b[0m\u001b[0m\n",
            "\u001b[0;32m/usr/local/lib/python3.6/dist-packages/xgboost/core.py\u001b[0m in \u001b[0;36mpredict\u001b[0;34m(self, data, output_margin, ntree_limit, pred_leaf, pred_contribs, approx_contribs, pred_interactions, validate_features)\u001b[0m\n\u001b[1;32m   1283\u001b[0m \u001b[0;34m\u001b[0m\u001b[0m\n\u001b[1;32m   1284\u001b[0m         \u001b[0;32mif\u001b[0m \u001b[0mvalidate_features\u001b[0m\u001b[0;34m:\u001b[0m\u001b[0;34m\u001b[0m\u001b[0;34m\u001b[0m\u001b[0m\n\u001b[0;32m-> 1285\u001b[0;31m             \u001b[0mself\u001b[0m\u001b[0;34m.\u001b[0m\u001b[0m_validate_features\u001b[0m\u001b[0;34m(\u001b[0m\u001b[0mdata\u001b[0m\u001b[0;34m)\u001b[0m\u001b[0;34m\u001b[0m\u001b[0;34m\u001b[0m\u001b[0m\n\u001b[0m\u001b[1;32m   1286\u001b[0m \u001b[0;34m\u001b[0m\u001b[0m\n\u001b[1;32m   1287\u001b[0m         \u001b[0mlength\u001b[0m \u001b[0;34m=\u001b[0m \u001b[0mc_bst_ulong\u001b[0m\u001b[0;34m(\u001b[0m\u001b[0;34m)\u001b[0m\u001b[0;34m\u001b[0m\u001b[0;34m\u001b[0m\u001b[0m\n",
            "\u001b[0;32m/usr/local/lib/python3.6/dist-packages/xgboost/core.py\u001b[0m in \u001b[0;36m_validate_features\u001b[0;34m(self, data)\u001b[0m\n\u001b[1;32m   1690\u001b[0m \u001b[0;34m\u001b[0m\u001b[0m\n\u001b[1;32m   1691\u001b[0m                 raise ValueError(msg.format(self.feature_names,\n\u001b[0;32m-> 1692\u001b[0;31m                                             data.feature_names))\n\u001b[0m\u001b[1;32m   1693\u001b[0m \u001b[0;34m\u001b[0m\u001b[0m\n\u001b[1;32m   1694\u001b[0m     \u001b[0;32mdef\u001b[0m \u001b[0mget_split_value_histogram\u001b[0m\u001b[0;34m(\u001b[0m\u001b[0mself\u001b[0m\u001b[0;34m,\u001b[0m \u001b[0mfeature\u001b[0m\u001b[0;34m,\u001b[0m \u001b[0mfmap\u001b[0m\u001b[0;34m=\u001b[0m\u001b[0;34m''\u001b[0m\u001b[0;34m,\u001b[0m \u001b[0mbins\u001b[0m\u001b[0;34m=\u001b[0m\u001b[0;32mNone\u001b[0m\u001b[0;34m,\u001b[0m \u001b[0mas_pandas\u001b[0m\u001b[0;34m=\u001b[0m\u001b[0;32mTrue\u001b[0m\u001b[0;34m)\u001b[0m\u001b[0;34m:\u001b[0m\u001b[0;34m\u001b[0m\u001b[0;34m\u001b[0m\u001b[0m\n",
            "\u001b[0;31mValueError\u001b[0m: feature_names mismatch: ['GPP_Day', 'PARin_Day', 'fAPAR_Day', 'LE_Day', 'GPP_MDay', 'PARin_MDay', 'fAPAR_MDay', 'LE_MDay', 'canopy_Chl', 'LAI', 'LAIgreen', 'VF', 'TM_NDVI', 'TM_EVI2', 'TM_WDRVI_05', 'TM_WDRVI_1', 'TM_Green NDVI', 'TM_VARI', 'TM_CIgreen', 'MODIS_CIgreen', 'MERIS_CIre', 'R_TM_blue', 'R_TM_green', 'R_TM_red', 'R_TM_IR', 'R_MODIS_green', 'R_Meris_RE', 'R_400', 'R_410', 'R_420', 'R_430', 'R_440', 'R_450', 'R_460', 'R_470', 'R_480', 'R_490', 'R_500', 'R_510', 'R_520', 'R_530', 'R_540', 'R_550', 'R_560', 'R_570', 'R_580', 'R_590', 'R_600', 'R_610', 'R_620', 'R_630', 'R_640', 'R_650', 'R_660', 'R_670', 'R_680', 'R_690', 'R_700', 'R_710', 'R_720', 'R_730', 'R_740', 'R_750', 'R_760', 'R_770', 'R_780', 'R_790', 'R_800', 'R_810', 'R_820', 'R_830', 'R_840', 'R_850', 'R_860', 'R_870', 'R_880', 'R_890', 'R_900'] ['f0', 'f1', 'f2', 'f3', 'f4', 'f5', 'f6', 'f7', 'f8', 'f9', 'f10', 'f11', 'f12', 'f13', 'f14', 'f15', 'f16', 'f17', 'f18', 'f19', 'f20', 'f21', 'f22', 'f23', 'f24', 'f25', 'f26', 'f27', 'f28', 'f29', 'f30', 'f31', 'f32', 'f33', 'f34', 'f35', 'f36', 'f37', 'f38', 'f39', 'f40', 'f41', 'f42', 'f43', 'f44', 'f45', 'f46', 'f47', 'f48', 'f49', 'f50', 'f51', 'f52', 'f53', 'f54', 'f55', 'f56', 'f57', 'f58', 'f59', 'f60', 'f61', 'f62', 'f63', 'f64', 'f65', 'f66', 'f67', 'f68', 'f69', 'f70', 'f71', 'f72', 'f73', 'f74', 'f75', 'f76', 'f77']\nexpected R_660, R_580, R_830, TM_EVI2, LE_MDay, R_570, R_820, R_900, R_Meris_RE, R_TM_blue, R_620, LAI, R_650, R_880, R_400, fAPAR_MDay, R_750, R_500, R_410, R_470, R_510, R_640, R_710, R_490, R_720, R_610, R_MODIS_green, R_760, R_780, MERIS_CIre, TM_WDRVI_05, R_TM_green, canopy_Chl, R_TM_red, R_740, R_630, R_850, R_890, GPP_MDay, MODIS_CIgreen, TM_WDRVI_1, R_870, PARin_Day, R_420, PARin_MDay, R_600, R_440, R_530, R_560, R_790, R_810, R_480, R_590, LAIgreen, TM_NDVI, R_670, R_TM_IR, VF, R_520, R_550, R_770, R_730, R_860, R_680, fAPAR_Day, TM_VARI, R_690, R_450, R_460, GPP_Day, R_700, TM_Green NDVI, LE_Day, TM_CIgreen, R_800, R_540, R_840, R_430 in input data\ntraining data did not have the following fields: f25, f40, f49, f42, f22, f46, f58, f48, f65, f72, f74, f12, f73, f39, f41, f16, f18, f51, f55, f7, f0, f13, f1, f23, f20, f32, f3, f24, f2, f10, f45, f44, f57, f64, f9, f15, f31, f28, f52, f67, f11, f6, f29, f36, f59, f27, f56, f70, f54, f8, f19, f38, f77, f35, f69, f37, f75, f33, f53, f14, f61, f50, f76, f60, f63, f26, f71, f30, f47, f43, f4, f62, f66, f17, f21, f34, f68, f5"
          ]
        }
      ]
    },
    {
      "cell_type": "markdown",
      "metadata": {
        "id": "0g8FGbbc_Qb8",
        "colab_type": "text"
      },
      "source": [
        ""
      ]
    },
    {
      "cell_type": "code",
      "metadata": {
        "id": "O3-BOels_Rtp",
        "colab_type": "code",
        "outputId": "08cb9cbc-070c-4c78-86be-19e2eaa5e07a",
        "colab": {
          "base_uri": "https://localhost:8080/",
          "height": 34
        }
      },
      "source": [
        "data.shape"
      ],
      "execution_count": 0,
      "outputs": [
        {
          "output_type": "execute_result",
          "data": {
            "text/plain": [
              "(78,)"
            ]
          },
          "metadata": {
            "tags": []
          },
          "execution_count": 48
        }
      ]
    },
    {
      "cell_type": "code",
      "metadata": {
        "id": "oTpuLiagvHCv",
        "colab_type": "code",
        "outputId": "4a23d60b-5c07-4ce8-c01e-ee8cf4e46b42",
        "colab": {
          "base_uri": "https://localhost:8080/",
          "height": 340
        }
      },
      "source": [
        "import numpy as np\n",
        "import json\n",
        "\n",
        "data = json.dumps({'GPP_Day':1.1, 'PARin_Day':892.673, 'fAPAR_Day':0.818, \n",
        "                   'LE_Day':-207.328, 'GPP_MDay':1.727, 'PARin_MDay':1495.392,\n",
        "                   'fAPAR_MDay':0.94, 'LE_MDay':-372.157, 'canopy_Chl':-9999,\n",
        "                   'LAI':-9999, 'LAIgreen':-9999,'VF':93.08,\n",
        "                   'TM_NDVI':0.899, 'TM_EVI2':0.48, 'TM_WDRVI_05':-0.031,\n",
        "                   'TM_WDRVI_1':0.306,'TM_Green NDVI':0.844,\n",
        "                   'TM_VARI':0.228, 'TM_CIgreen':10.829, 'MODIS_CIgreen':8.688,\n",
        "                   'MERIS_CIre':5.165, 'R_TM_blue':1.251,\n",
        "                   'R_TM_green':2.222, 'R_TM_red':1.397, 'R_TM_IR':26.285,\n",
        "                   'R_MODIS_green':2.713, 'R_Meris_RE':4.264,\n",
        "                   'R_400':1.029,'R_410':1.101, 'R_420':1.082, 'R_430':1.188,\n",
        "                   'R_440':1.123,\n",
        "                   'R_450':1.132, \n",
        "                   'R_460':1.153, \n",
        "                   'R_470':1.181, 'R_480':1.132,\n",
        "                   'R_490':1.139, 'R_500':1.192, 'R_510':1.334, 'R_520':1.748, \n",
        "                   'R_530':2.35, 'R_540':2.665,\n",
        "                   'R_550':2.798, 'R_560':2.677, 'R_570':2.29, 'R_580':1.95, \n",
        "                   'R_590':1.788, 'R_600':1.733, \n",
        "                   'R_610':1.615, 'R_620':1.49,\n",
        "                   'R_630':1.471, 'R_640':1.432, 'R_650':1.356, 'R_660':1.293, \n",
        "                   'R_670':1.25,\n",
        "                   'R_680':1.336, 'R_690':1.641, 'R_700':2.885,\n",
        "                   'R_710':5.643, 'R_720':9.934, 'R_730':16.423, 'R_740':23.074,\n",
        "                   'R_750':27.343,\n",
        "                   'R_760':24.737, 'R_770':29.029, 'R_780':28.751,\n",
        "                   'R_790':28.511, 'R_800':28.608, 'R_810':28.393,\n",
        "                   'R_820':27.553,\n",
        "                   'R_830':26.843, 'R_840':27.155, 'R_850':26.637,\n",
        "                   'R_860':26.236, 'R_870':25.215, 'R_880':24.049,\n",
        "                   'R_890':23.122, 'R_900':19.35})\n",
        "data = np.array(data)\n",
        "print(model.predict(data))"
      ],
      "execution_count": 0,
      "outputs": [
        {
          "output_type": "error",
          "ename": "ValueError",
          "evalue": "ignored",
          "traceback": [
            "\u001b[0;31m---------------------------------------------------------------------------\u001b[0m",
            "\u001b[0;31mValueError\u001b[0m                                Traceback (most recent call last)",
            "\u001b[0;32m<ipython-input-45-ee8e6943263e>\u001b[0m in \u001b[0;36m<module>\u001b[0;34m()\u001b[0m\n\u001b[1;32m     34\u001b[0m                    'R_890':23.122, 'R_900':19.35})\n\u001b[1;32m     35\u001b[0m \u001b[0mdata\u001b[0m \u001b[0;34m=\u001b[0m \u001b[0mnp\u001b[0m\u001b[0;34m.\u001b[0m\u001b[0marray\u001b[0m\u001b[0;34m(\u001b[0m\u001b[0mdata\u001b[0m\u001b[0;34m)\u001b[0m\u001b[0;34m\u001b[0m\u001b[0;34m\u001b[0m\u001b[0m\n\u001b[0;32m---> 36\u001b[0;31m \u001b[0mprint\u001b[0m\u001b[0;34m(\u001b[0m\u001b[0mmodel\u001b[0m\u001b[0;34m.\u001b[0m\u001b[0mpredict\u001b[0m\u001b[0;34m(\u001b[0m\u001b[0mdata\u001b[0m\u001b[0;34m)\u001b[0m\u001b[0;34m)\u001b[0m\u001b[0;34m\u001b[0m\u001b[0;34m\u001b[0m\u001b[0m\n\u001b[0m",
            "\u001b[0;32m/usr/local/lib/python3.6/dist-packages/xgboost/sklearn.py\u001b[0m in \u001b[0;36mpredict\u001b[0;34m(self, data, output_margin, ntree_limit, validate_features)\u001b[0m\n\u001b[1;32m    764\u001b[0m         \u001b[0mprediction\u001b[0m \u001b[0;34m:\u001b[0m \u001b[0mnumpy\u001b[0m \u001b[0marray\u001b[0m\u001b[0;34m\u001b[0m\u001b[0;34m\u001b[0m\u001b[0m\n\u001b[1;32m    765\u001b[0m         \"\"\"\n\u001b[0;32m--> 766\u001b[0;31m         \u001b[0mtest_dmatrix\u001b[0m \u001b[0;34m=\u001b[0m \u001b[0mDMatrix\u001b[0m\u001b[0;34m(\u001b[0m\u001b[0mdata\u001b[0m\u001b[0;34m,\u001b[0m \u001b[0mmissing\u001b[0m\u001b[0;34m=\u001b[0m\u001b[0mself\u001b[0m\u001b[0;34m.\u001b[0m\u001b[0mmissing\u001b[0m\u001b[0;34m,\u001b[0m \u001b[0mnthread\u001b[0m\u001b[0;34m=\u001b[0m\u001b[0mself\u001b[0m\u001b[0;34m.\u001b[0m\u001b[0mn_jobs\u001b[0m\u001b[0;34m)\u001b[0m\u001b[0;34m\u001b[0m\u001b[0;34m\u001b[0m\u001b[0m\n\u001b[0m\u001b[1;32m    767\u001b[0m         \u001b[0;32mif\u001b[0m \u001b[0mntree_limit\u001b[0m \u001b[0;32mis\u001b[0m \u001b[0;32mNone\u001b[0m\u001b[0;34m:\u001b[0m\u001b[0;34m\u001b[0m\u001b[0;34m\u001b[0m\u001b[0m\n\u001b[1;32m    768\u001b[0m             \u001b[0mntree_limit\u001b[0m \u001b[0;34m=\u001b[0m \u001b[0mgetattr\u001b[0m\u001b[0;34m(\u001b[0m\u001b[0mself\u001b[0m\u001b[0;34m,\u001b[0m \u001b[0;34m\"best_ntree_limit\"\u001b[0m\u001b[0;34m,\u001b[0m \u001b[0;36m0\u001b[0m\u001b[0;34m)\u001b[0m\u001b[0;34m\u001b[0m\u001b[0;34m\u001b[0m\u001b[0m\n",
            "\u001b[0;32m/usr/local/lib/python3.6/dist-packages/xgboost/core.py\u001b[0m in \u001b[0;36m__init__\u001b[0;34m(self, data, label, missing, weight, silent, feature_names, feature_types, nthread)\u001b[0m\n\u001b[1;32m    405\u001b[0m             \u001b[0mself\u001b[0m\u001b[0;34m.\u001b[0m\u001b[0m_init_from_csc\u001b[0m\u001b[0;34m(\u001b[0m\u001b[0mdata\u001b[0m\u001b[0;34m)\u001b[0m\u001b[0;34m\u001b[0m\u001b[0;34m\u001b[0m\u001b[0m\n\u001b[1;32m    406\u001b[0m         \u001b[0;32melif\u001b[0m \u001b[0misinstance\u001b[0m\u001b[0;34m(\u001b[0m\u001b[0mdata\u001b[0m\u001b[0;34m,\u001b[0m \u001b[0mnp\u001b[0m\u001b[0;34m.\u001b[0m\u001b[0mndarray\u001b[0m\u001b[0;34m)\u001b[0m\u001b[0;34m:\u001b[0m\u001b[0;34m\u001b[0m\u001b[0;34m\u001b[0m\u001b[0m\n\u001b[0;32m--> 407\u001b[0;31m             \u001b[0mself\u001b[0m\u001b[0;34m.\u001b[0m\u001b[0m_init_from_npy2d\u001b[0m\u001b[0;34m(\u001b[0m\u001b[0mdata\u001b[0m\u001b[0;34m,\u001b[0m \u001b[0mmissing\u001b[0m\u001b[0;34m,\u001b[0m \u001b[0mnthread\u001b[0m\u001b[0;34m)\u001b[0m\u001b[0;34m\u001b[0m\u001b[0;34m\u001b[0m\u001b[0m\n\u001b[0m\u001b[1;32m    408\u001b[0m         \u001b[0;32melif\u001b[0m \u001b[0misinstance\u001b[0m\u001b[0;34m(\u001b[0m\u001b[0mdata\u001b[0m\u001b[0;34m,\u001b[0m \u001b[0mDataTable\u001b[0m\u001b[0;34m)\u001b[0m\u001b[0;34m:\u001b[0m\u001b[0;34m\u001b[0m\u001b[0;34m\u001b[0m\u001b[0m\n\u001b[1;32m    409\u001b[0m             \u001b[0mself\u001b[0m\u001b[0;34m.\u001b[0m\u001b[0m_init_from_dt\u001b[0m\u001b[0;34m(\u001b[0m\u001b[0mdata\u001b[0m\u001b[0;34m,\u001b[0m \u001b[0mnthread\u001b[0m\u001b[0;34m)\u001b[0m\u001b[0;34m\u001b[0m\u001b[0;34m\u001b[0m\u001b[0m\n",
            "\u001b[0;32m/usr/local/lib/python3.6/dist-packages/xgboost/core.py\u001b[0m in \u001b[0;36m_init_from_npy2d\u001b[0;34m(self, mat, missing, nthread)\u001b[0m\n\u001b[1;32m    473\u001b[0m         \"\"\"\n\u001b[1;32m    474\u001b[0m         \u001b[0;32mif\u001b[0m \u001b[0mlen\u001b[0m\u001b[0;34m(\u001b[0m\u001b[0mmat\u001b[0m\u001b[0;34m.\u001b[0m\u001b[0mshape\u001b[0m\u001b[0;34m)\u001b[0m \u001b[0;34m!=\u001b[0m \u001b[0;36m2\u001b[0m\u001b[0;34m:\u001b[0m\u001b[0;34m\u001b[0m\u001b[0;34m\u001b[0m\u001b[0m\n\u001b[0;32m--> 475\u001b[0;31m             \u001b[0;32mraise\u001b[0m \u001b[0mValueError\u001b[0m\u001b[0;34m(\u001b[0m\u001b[0;34m'Input numpy.ndarray must be 2 dimensional'\u001b[0m\u001b[0;34m)\u001b[0m\u001b[0;34m\u001b[0m\u001b[0;34m\u001b[0m\u001b[0m\n\u001b[0m\u001b[1;32m    476\u001b[0m         \u001b[0;31m# flatten the array by rows and ensure it is float32.\u001b[0m\u001b[0;34m\u001b[0m\u001b[0;34m\u001b[0m\u001b[0;34m\u001b[0m\u001b[0m\n\u001b[1;32m    477\u001b[0m         \u001b[0;31m# we try to avoid data copies if possible (reshape returns a view when possible\u001b[0m\u001b[0;34m\u001b[0m\u001b[0;34m\u001b[0m\u001b[0;34m\u001b[0m\u001b[0m\n",
            "\u001b[0;31mValueError\u001b[0m: Input numpy.ndarray must be 2 dimensional"
          ]
        }
      ]
    },
    {
      "cell_type": "code",
      "metadata": {
        "id": "KwshNRg1sTUv",
        "colab_type": "code",
        "outputId": "dc14b298-74fc-4405-867c-0843d1a7eff7",
        "colab": {
          "base_uri": "https://localhost:8080/",
          "height": 34
        }
      },
      "source": [
        "print(data.shape)"
      ],
      "execution_count": 0,
      "outputs": [
        {
          "output_type": "stream",
          "text": [
            "()\n"
          ],
          "name": "stdout"
        }
      ]
    },
    {
      "cell_type": "code",
      "metadata": {
        "id": "I304Pm8wwcLb",
        "colab_type": "code",
        "colab": {}
      },
      "source": [
        "import json\n",
        "import requests\n",
        "\n",
        "url = \"http://localhost:5000/api\"\n",
        "data = json.dumps({'GPP_Day':1.1, 'PARin_Day':892.673, 'fAPAR_Day':0.818, \n",
        "                   'LE_Day':-207.328, 'GPP_MDay':1.727, 'PARin_MDay':1495.392,\n",
        "                   'fAPAR_MDay':0.94, 'LE_MDay':-372.157, 'canopy_Chl':-9999,\n",
        "                   'LAI':-9999, 'LAIgreen':-9999,'VF':93.08,\n",
        "                   'TM_NDVI':0.899, 'TM_EVI2':0.48, 'TM_WDRVI_05':-0.031,\n",
        "                   'TM_WDRVI_1':0.306,'TM_Green NDVI':0.844,\n",
        "                   'TM_VARI':0.228, 'TM_CIgreen':10.829, 'MODIS_CIgreen':8.688,\n",
        "                   'MERIS_CIre':5.165, 'R_TM_blue':1.251,\n",
        "                   'R_TM_green':2.222, 'R_TM_red':1.397, 'R_TM_IR':26.285,\n",
        "                   'R_MODIS_green':2.713, 'R_Meris_RE':4.264,\n",
        "                   'R_400':1.029,'R_410':1.101, 'R_420':1.082, 'R_430':1.188,\n",
        "                   'R_440':1.123,\n",
        "                   'R_450':1.132, \n",
        "                   'R_460':1.153, \n",
        "                   'R_470':1.181, 'R_480':1.132,\n",
        "                   'R_490':1.139, 'R_500':1.192, 'R_510':1.334, 'R_520':1.748, \n",
        "                   'R_530':2.35, 'R_540':2.665,\n",
        "                   'R_550':2.798, 'R_560':2.677, 'R_570':2.29, 'R_580':1.95, \n",
        "                   'R_590':1.788, 'R_600':1.733, \n",
        "                   'R_610':1.615, 'R_620':1.49,\n",
        "                   'R_630':1.471, 'R_640':1.432, 'R_650':1.356, 'R_660':1.293, \n",
        "                   'R_670':1.25,\n",
        "                   'R_680':1.336, 'R_690':1.641, 'R_700':2.885,\n",
        "                   'R_710':5.643, 'R_720':9.934, 'R_730':16.423, 'R_740':23.074,\n",
        "                   'R_750':27.343,\n",
        "                   'R_760':24.737, 'R_770':29.029, 'R_780':28.751,\n",
        "                   'R_790':28.511, 'R_800':28.608, 'R_810':28.393,\n",
        "                   'R_820':27.553,\n",
        "                   'R_830':26.843, 'R_840':27.155, 'R_850':26.637,\n",
        "                   'R_860':26.236, 'R_870':25.215, 'R_880':24.049,\n",
        "                   'R_890':23.122, 'R_900':19.35})\n",
        "r = requests.post(url, data)\n",
        "\n",
        "print (r.json())"
      ],
      "execution_count": 0,
      "outputs": []
    },
    {
      "cell_type": "code",
      "metadata": {
        "id": "s7BeGv9juiX6",
        "colab_type": "code",
        "outputId": "490179e9-f15d-4b43-9a04-9288fdd33a71",
        "colab": {
          "base_uri": "https://localhost:8080/",
          "height": 34
        }
      },
      "source": [
        "data.shape"
      ],
      "execution_count": 0,
      "outputs": [
        {
          "output_type": "execute_result",
          "data": {
            "text/plain": [
              "()"
            ]
          },
          "metadata": {
            "tags": []
          },
          "execution_count": 44
        }
      ]
    }
  ]
}